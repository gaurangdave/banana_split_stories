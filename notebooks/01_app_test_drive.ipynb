{
 "cells": [
  {
   "cell_type": "markdown",
   "id": "ddf87d3e",
   "metadata": {},
   "source": [
    "# App Test Drive\n",
    "* In this notebook we'll sequentially go thru each steps of the app, before we convert into a fully fledged web app. "
   ]
  },
  {
   "cell_type": "markdown",
   "id": "3b7390e2",
   "metadata": {},
   "source": [
    "## Import Libraries"
   ]
  },
  {
   "cell_type": "code",
   "execution_count": 5,
   "id": "1b90d37e",
   "metadata": {},
   "outputs": [],
   "source": [
    "import os\n",
    "import json\n",
    "\n",
    "import PIL\n",
    "from google import genai\n",
    "from PIL import Image\n",
    "from io import BytesIO\n",
    "from IPython.display import display\n",
    "\n",
    "from pathlib import Path\n",
    "from datetime import datetime"
   ]
  },
  {
   "cell_type": "markdown",
   "id": "999bfd6e",
   "metadata": {},
   "source": [
    "## Setup Constants"
   ]
  },
  {
   "cell_type": "code",
   "execution_count": 35,
   "id": "370e979b",
   "metadata": {},
   "outputs": [],
   "source": [
    "image_dir = Path(\"..\",\"images\")\n",
    "ai_image_dir = Path(image_dir,\"ai_images\")\n",
    "data_dir = Path(\"..\", \"data\")\n",
    "\n",
    "IMAGE_MODEL_ID = \"gemini-2.5-flash-image-preview\"\n",
    "TEXT_MODEL_ID = \"gemini-2.5-flash-lite\""
   ]
  },
  {
   "cell_type": "markdown",
   "id": "c34736a3",
   "metadata": {},
   "source": [
    "## Client Setup"
   ]
  },
  {
   "cell_type": "code",
   "execution_count": null,
   "id": "de19648d",
   "metadata": {},
   "outputs": [],
   "source": [
    "# read api key\n",
    "API_KEY = os.environ.get(\"GEMINI_API_KEY\")\n",
    "\n",
    "\n",
    "# configure the client with your API key\n",
    "client = genai.Client(api_key=API_KEY)"
   ]
  },
  {
   "cell_type": "markdown",
   "id": "a10473d7",
   "metadata": {},
   "source": [
    "## Utils"
   ]
  },
  {
   "cell_type": "code",
   "execution_count": 4,
   "id": "f9128629",
   "metadata": {},
   "outputs": [],
   "source": [
    "def save_and_display_response(response, file_name = f\"image_{datetime.now().timestamp()}.png\"):\n",
    "    image_parts = [\n",
    "        part.inline_data.data\n",
    "        for part in response.candidates[0].content.parts\n",
    "        if part.inline_data\n",
    "    ]\n",
    "    \n",
    "    if image_parts:\n",
    "        image = Image.open(BytesIO(image_parts[0]))\n",
    "        image.save(f\"{ai_image_dir}/{file_name}\")\n",
    "        display(image)"
   ]
  },
  {
   "cell_type": "markdown",
   "id": "e50883bc",
   "metadata": {},
   "source": [
    "## Theme Config"
   ]
  },
  {
   "cell_type": "code",
   "execution_count": 41,
   "id": "12ef0b99",
   "metadata": {},
   "outputs": [],
   "source": [
    "THEME_CONFIG = {\n",
    "    \"Haunted Space Station\": {\n",
    "        \"character_prompt_template\": \"A {gender} hero wearing a worn, high-tech scavenger jumpsuit, equipped with a side-mounted plasma cutter and a wrist-mounted data-pad. The expression is a mix of determination and apprehension.\",\n",
    "        \"story_theme_prompt\": \"A tense, sci-fi horror adventure about a rescue mission on a derelict space station teeming with strange alien phenomena.\"\n",
    "    },\n",
    "    \"Lost Temple of the Jungle\": {\n",
    "        \"character_prompt_template\": \"A {gender} explorer wearing practical, moisture-wicking gear, with a coiled whip on their belt and a leather-bound journal in a satchel. The expression is curious and brave.\",\n",
    "        \"story_theme_prompt\": \"A classic pulp adventure to find a legendary artifact in a jungle temple filled with ancient traps and mysterious guardians.\"\n",
    "    },\n",
    "    \"Cyberpunk Underworld\": {\n",
    "        \"character_prompt_template\": \"A {gender} street samurai with subtle cybernetic enhancements around one eye, wearing a stylish neo-noir trench coat over light tactical armor. The expression is sharp and street-wise.\",\n",
    "        \"story_theme_prompt\": \"A gritty, neon-noir investigation into a corporate conspiracy in the rain-slicked back-alleys of a futuristic metropolis.\"\n",
    "    },\n",
    "    \"Curse of the Banana King\": {\n",
    "        \"character_prompt_template\": \"A daring {gender} treasure hunter wearing a weathered fedora and a bright yellow bandana. They are equipped with a mystical, banana-shaped compass and a sharp machete for cutting through dense jungle foliage. The expression is a mix of excitement and unease.\",\n",
    "        \"story_theme_prompt\": \"A thrilling, slightly absurd treasure hunt to find the mythical Golden Banana in a temple cursed by the ancient Banana King, where the banana trees are rumored to watch your every move.\"\n",
    "    }\n",
    "}\n",
    "\n",
    "DEFAULT_THEME = \"Curse of the Banana King\"\n"
   ]
  },
  {
   "cell_type": "markdown",
   "id": "6b66e707",
   "metadata": {},
   "source": [
    "## Step 1 - Setup Screen\n",
    "\n",
    "* In this screen we'll give users few choices of story theme and based on their selection we'll create the story and character for them. \n",
    "* We'll use GenAI to generate this story and will try and use it to create prompts for image and text. "
   ]
  },
  {
   "cell_type": "markdown",
   "id": "b45db3e4",
   "metadata": {},
   "source": [
    "### Prompt"
   ]
  },
  {
   "cell_type": "code",
   "execution_count": 42,
   "id": "4cc51a1e",
   "metadata": {},
   "outputs": [],
   "source": [
    "setup_screen_prompt_template = \"\"\"\n",
    "You are a creative and expert Dungeon Master AI. Your task is to design a short, branching adventure story based on a user-provided theme and a desired number of steps for a successful playthrough.\n",
    "\n",
    "The theme is: \"{theme}\"\n",
    "The successful path length must be exactly: {step_count} steps.\n",
    "\n",
    "Your output MUST be a single, valid JSON object. Do not include any text, notes, or markdown formatting (like ```json) before or after the JSON block.\n",
    "\n",
    "The JSON object must conform to the following rules and schema:\n",
    "\n",
    "1.  **prologue**: A compelling background story (2-3 sentences) explaining the hero's motivation and setting the scene.\n",
    "2.  **story_tree**: This must be a LIST of story node objects. The first object in the list is the starting point of the adventure and MUST have its id field set to \"start\".\n",
    "3.  **scene_description**: A visually rich and descriptive text prompt (2-3 sentences) for an AI image generator.\n",
    "4.  **narration**: Text for an AI voice to narrate the scene (2-3 sentences).\n",
    "5.  **choices**: An array of 1 or 2 choice objects. Ending nodes must have an empty `[]` choices array.\n",
    "6.  **is_ending**: A boolean (`true` or `false`). This MUST be `true` for any node that represents an end to the game.\n",
    "7.  **outcome**: A string, either `\"success\"` or `\"failure\"`. This key MUST be present if and only if `is_ending` is `true`.\n",
    "8.  **Failure Paths**: You MUST include at least one path that leads to a `failure` outcome. Failure paths can be shorter than the successful path.\n",
    "\n",
    "Here is the exact schema for each node within the `story_tree`:\n",
    "{{\n",
    "  \"id\": \"string\",\n",
    "  \"scene_description\": \"string\",\n",
    "  \"narration\": \"string\",\n",
    "  \"choices\": [\n",
    "    {{\n",
    "      \"text\": \"string\",\n",
    "      \"next_id\": \"string\"\n",
    "    }}\n",
    "  ],\n",
    "  \"is_ending\": \"boolean\",\n",
    "  \"outcome\": \"string (optional: 'success' or 'failure')\"\n",
    "}}\n",
    "\n",
    "Now, generate the complete JSON for my adventure.\n",
    "\"\"\""
   ]
  },
  {
   "cell_type": "markdown",
   "id": "d7e16d6a",
   "metadata": {},
   "source": [
    "### Reponse Model"
   ]
  },
  {
   "cell_type": "code",
   "execution_count": 43,
   "id": "24156261",
   "metadata": {},
   "outputs": [],
   "source": [
    "from pydantic import BaseModel\n",
    "from typing import List, Optional, Literal\n",
    "\n",
    "# No changes are needed for the Choice class.\n",
    "class Choice(BaseModel):\n",
    "    \"\"\"\n",
    "    Represents a single choice a player can make.\n",
    "    \"\"\"\n",
    "    text: str\n",
    "    next_id: str\n",
    "\n",
    "\n",
    "class StoryNode(BaseModel):\n",
    "    \"\"\"\n",
    "    Represents a single step in the story.\n",
    "    We've added the 'id' field here to uniquely identify each node.\n",
    "    \"\"\"\n",
    "    id: str  # <-- The new field you suggested!\n",
    "    scene_description: str\n",
    "    narration: str\n",
    "    choices: List[Choice]\n",
    "    is_ending: bool\n",
    "    outcome: Optional[Literal[\"success\", \"failure\"]] = None\n",
    "\n",
    "\n",
    "class Story(BaseModel):\n",
    "    \"\"\"\n",
    "    Represents the entire adventure.\n",
    "    The 'story_tree' is now a List of StoryNode objects instead of a Dictionary.\n",
    "    This resolves the `additionalProperties` error with the Gemini API.\n",
    "    \"\"\"\n",
    "    prologue: str\n",
    "    story_tree: List[StoryNode]"
   ]
  },
  {
   "cell_type": "markdown",
   "id": "8551b56f",
   "metadata": {},
   "source": [
    "### Call"
   ]
  },
  {
   "cell_type": "code",
   "execution_count": 44,
   "id": "1a218b76",
   "metadata": {},
   "outputs": [],
   "source": [
    "def generate_story(theme=THEME_CONFIG[DEFAULT_THEME][\"story_theme_prompt\"], step_count=3):\n",
    "    # format the final prompt\n",
    "    final_prompt = setup_screen_prompt_template.format(\n",
    "        theme=theme, step_count=step_count)\n",
    "\n",
    "    response = client.models.generate_content(\n",
    "        model=TEXT_MODEL_ID,\n",
    "        contents=final_prompt,\n",
    "        config={\n",
    "            \"response_mime_type\": \"application/json\",\n",
    "            \"response_schema\": Story\n",
    "        }\n",
    "    )\n",
    "    story_json_text = response.text\n",
    "    # parse story data\n",
    "    story_data = json.loads(story_json_text)\n",
    "    # return story data\n",
    "    return story_data"
   ]
  },
  {
   "cell_type": "code",
   "execution_count": 46,
   "id": "b49653e1",
   "metadata": {},
   "outputs": [],
   "source": [
    "# --- Define Your Game Parameters ---\n",
    "theme = THEME_CONFIG[DEFAULT_THEME][\"story_theme_prompt\"]\n",
    "step_count = 3\n",
    "\n",
    "## commenting out to avoid multiple API calls\n",
    "# story_data = generate_story(\n",
    "#     theme=theme, step_count=step_count\n",
    "# )\n",
    "\n",
    "# story_data"
   ]
  },
  {
   "cell_type": "code",
   "execution_count": 47,
   "id": "fd810379",
   "metadata": {},
   "outputs": [
    {
     "data": {
      "text/plain": [
       "{'prologue': 'Legends whisper of the Golden Banana, an artifact of unparalleled deliciousness and immense power, hidden within the Temple of the Watchful Trees. You, a renowned (or perhaps just very hungry) adventurer, have braved treacherous jungles to seek this legendary fruit, said to grant eternal potassium.',\n",
       " 'story_tree': [{'id': 'start',\n",
       "   'scene_description': 'A grand, ancient temple entrance carved into a mountainside, overgrown with lush jungle vines. Giant, gnarled banana trees with unsettlingly human-like knots stand sentinel on either side. Sunlight filters through the dense canopy, casting eerie shadows.',\n",
       "   'narration': 'You stand before the fabled Temple of the Watchful Trees. The air is thick with humidity and the scent of overripe fruit. The ancient banana trees seem to lean in, their leafy canopies like watching eyes.',\n",
       "   'choices': [{'text': 'Enter the temple boldly.', 'next_id': 'main_hall'},\n",
       "    {'text': 'Try to sneak around the watchful trees.',\n",
       "     'next_id': 'sneaky_fail'}],\n",
       "   'is_ending': False},\n",
       "  {'id': 'main_hall',\n",
       "   'scene_description': 'Inside the temple, a vast hall with crumbling stone pillars. Golden banana motifs adorn the walls. In the center, a pedestal holds three ornate chests. Strange, faint whispers echo.',\n",
       "   'narration': 'The main hall is surprisingly intact, though dust motes dance in the shafts of light. Three chests beckon, each possibly containing the Golden Banana, or perhaps just a terrible curse.',\n",
       "   'choices': [{'text': 'Open the left chest.',\n",
       "     'next_id': 'left_chest_success'},\n",
       "    {'text': 'Open the middle chest.', 'next_id': 'middle_chest_trap'},\n",
       "    {'text': 'Open the right chest.', 'next_id': 'right_chest_trap'}],\n",
       "   'is_ending': False},\n",
       "  {'id': 'sneaky_fail',\n",
       "   'scene_description': 'Thorny vines erupt from the ground, ensnaring your legs. The banana trees rustle menacingly, their shadows lengthening and twisting.',\n",
       "   'narration': \"Your attempt to be stealthy was a mistake. The temple's guardians, the very trees themselves, have caught you. Their roots lash out, pulling you into the earth.\",\n",
       "   'choices': [],\n",
       "   'is_ending': True,\n",
       "   'outcome': 'failure'},\n",
       "  {'id': 'left_chest_success',\n",
       "   'scene_description': 'A radiant, golden banana rests inside the chest, glowing with an inner light. The air shimmers with ancient energy. A faint, triumphant chime sounds.',\n",
       "   'narration': 'Success! The legendary Golden Banana is yours. Its peel gleams with an almost blinding light, and you feel a surge of pure, unadulterated potassium power.',\n",
       "   'choices': [],\n",
       "   'is_ending': True,\n",
       "   'outcome': 'success'},\n",
       "  {'id': 'middle_chest_trap',\n",
       "   'scene_description': 'As you open the middle chest, a cloud of spores erupts, causing uncontrollable laughter and making your vision blur into a psychedelic swirl of yellow.',\n",
       "   'narration': \"A burst of enchanted banana dust fills the air! You can't stop laughing, and the temple walls seem to melt and reform into dancing banana shapes. You've succumbed to the Banana King's jest.\",\n",
       "   'choices': [],\n",
       "   'is_ending': True,\n",
       "   'outcome': 'failure'},\n",
       "  {'id': 'right_chest_trap',\n",
       "   'scene_description': 'A swarm of angry, tiny monkeys, guarding the chest, leaps out. They chatter furiously and begin pelting you with rotten banana peels.',\n",
       "   'narration': 'Beware the monkey guardians! They defend the treasure with surprising ferocity, and their aim with rotten fruit is impeccable. You are quickly overwhelmed and forced to retreat.',\n",
       "   'choices': [],\n",
       "   'is_ending': True,\n",
       "   'outcome': 'failure'}]}"
      ]
     },
     "execution_count": 47,
     "metadata": {},
     "output_type": "execute_result"
    }
   ],
   "source": [
    "## reading story data from saved file for future use. \n",
    "with open(Path(data_dir,\"adventure.json\"), \"r\") as file:\n",
    "    story_data = json.load(file)\n",
    "    \n",
    "story_data"
   ]
  },
  {
   "cell_type": "code",
   "execution_count": null,
   "id": "302aa861",
   "metadata": {},
   "outputs": [],
   "source": []
  }
 ],
 "metadata": {
  "kernelspec": {
   "display_name": "venv",
   "language": "python",
   "name": "python3"
  },
  "language_info": {
   "codemirror_mode": {
    "name": "ipython",
    "version": 3
   },
   "file_extension": ".py",
   "mimetype": "text/x-python",
   "name": "python",
   "nbconvert_exporter": "python",
   "pygments_lexer": "ipython3",
   "version": "3.12.9"
  }
 },
 "nbformat": 4,
 "nbformat_minor": 5
}
